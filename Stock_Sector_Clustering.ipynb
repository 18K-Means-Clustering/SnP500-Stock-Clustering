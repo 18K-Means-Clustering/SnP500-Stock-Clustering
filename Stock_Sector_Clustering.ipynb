{
  "cells": [
    {
      "cell_type": "markdown",
      "metadata": {
        "id": "itJv_MCBneqf"
      },
      "source": [
        "# 0. Import library"
      ]
    },
    {
      "cell_type": "code",
      "execution_count": 1,
      "metadata": {
        "id": "S99MkGzZneqn"
      },
      "outputs": [],
      "source": [
        "import numpy as np\n",
        "import pandas as pd\n",
        "import yfinance as yf\n",
        "import seaborn as sns\n",
        "from tqdm import tqdm\n",
        "import matplotlib.pyplot as plt\n",
        "from itertools import combinations\n",
        "from sklearn.cluster import KMeans\n",
        "from sklearn.preprocessing import Normalizer\n",
        "from sklearn.preprocessing import MinMaxScaler"
      ]
    },
    {
      "cell_type": "markdown",
      "metadata": {
        "id": "f2yWC5D2neqp"
      },
      "source": [
        "# 1. Data"
      ]
    },
    {
      "cell_type": "markdown",
      "metadata": {
        "id": "2JzNvrDJneqq"
      },
      "source": [
        "- Wikipeda에서 S&P500에 포함된 회사들의 리스트를 가져온다"
      ]
    },
    {
      "cell_type": "code",
      "execution_count": 2,
      "metadata": {
        "id": "-1WXQPptneqr"
      },
      "outputs": [],
      "source": [
        "sp500_url = 'https://en.wikipedia.org/wiki/List_of_S%26P_500_companies'\n",
        "data_table = pd.read_html(sp500_url)\n",
        "tickers = data_table[0]['Symbol'].tolist()      # Ticker 이름\n",
        "security = data_table[0]['Security'].tolist()   #Ticker 이름에 해당하는 회사 전체 이름\n",
        "sector = data_table[0]['GICS Sector'].tolist()"
      ]
    },
    {
      "cell_type": "markdown",
      "metadata": {
        "id": "35bGDt8Tneqs"
      },
      "source": [
        "- 기간 (2017.01.01 ~ 2023.01.01) 내에 데이터 없는 Ticker 이름 지우기"
      ]
    },
    {
      "cell_type": "code",
      "execution_count": 3,
      "metadata": {
        "id": "897BQb9aneqs"
      },
      "outputs": [],
      "source": [
        "unused_tickers = ['BRK.B', 'BF.B', 'KVUE', 'VLTO']\n",
        "unused_security = []\n",
        "unused_sector = []\n",
        "\n",
        "for idx, ticker in enumerate(tickers):\n",
        "    if ticker in unused_tickers:\n",
        "        unused_security.append(security[idx])\n",
        "        unused_sector.append(sector[idx])\n",
        "\n",
        "for ticker_item, sector_item, security_item in zip(unused_tickers, unused_sector, unused_security):\n",
        "    tickers.remove(ticker_item)\n",
        "    sector.remove(sector_item)\n",
        "    security.remove(security_item)"
      ]
    },
    {
      "cell_type": "markdown",
      "metadata": {
        "id": "DAGtfEwSneqt"
      },
      "source": [
        "- 데이터 불러오기. (2017.01.01 ~ 2023.01.01)"
      ]
    },
    {
      "cell_type": "code",
      "execution_count": 4,
      "metadata": {
        "id": "rW5tiz37nequ"
      },
      "outputs": [],
      "source": [
        "prices_list = []    # 주가\n",
        "return_list = []    # 평균수익률\n",
        "risk_list = []      # 변동성\n",
        "volume_list = []    # 거래량"
      ]
    },
    {
      "cell_type": "code",
      "execution_count": 5,
      "metadata": {
        "colab": {
          "base_uri": "https://localhost:8080/"
        },
        "id": "uu6jUHcUneqv",
        "outputId": "4c172ae8-ba4b-4357-c0be-8d61269cbe59"
      },
      "outputs": [
        {
          "output_type": "stream",
          "name": "stderr",
          "text": [
            "100%|██████████| 499/499 [05:07<00:00,  1.62it/s]\n"
          ]
        }
      ],
      "source": [
        "for ticker in tqdm(tickers):\n",
        "    data = yf.download(ticker, start='2017-01-01', end='2023-01-01', progress=False)\n",
        "\n",
        "    # 주가 데이터\n",
        "    prices = pd.DataFrame(data['Adj Close'])\n",
        "    prices.columns = [ticker]\n",
        "    prices_list.append(prices)\n",
        "\n",
        "    # 거래량 데이터\n",
        "    volume = pd.DataFrame(data['Volume'])\n",
        "    volume.columns = [ticker]\n",
        "    volume_list.append(volume)\n",
        "\n",
        "    # 변동성 데이터 (리스크)\n",
        "    returns = prices.pct_change().fillna(0)\n",
        "    risk = returns.std().values[0]\n",
        "    return_list.append(returns.mean().values[0])\n",
        "    risk_list.append(risk)"
      ]
    },
    {
      "cell_type": "code",
      "execution_count": 6,
      "metadata": {
        "id": "_HvcW2IVneqw"
      },
      "outputs": [],
      "source": [
        "# 주가\n",
        "prices_df = pd.concat(prices_list,axis=1).pct_change().fillna(0) # 수익률 변화 계산\n",
        "prices_df = prices_df.iloc[1:].T    # Ticker명을 Index로 사용\n",
        "prices_df.sort_index(inplace=True)\n",
        "normalize = Normalizer()            # 데이터 정규화\n",
        "prices_df = pd.DataFrame(normalize.fit_transform(prices_df), columns=prices_df.columns, index=prices_df.index)\n",
        "\n",
        "# 거래량\n",
        "volume_df = pd.concat(volume_list,axis=1).fillna(0)\n",
        "volume_df = volume_df.iloc[1:].T    # Ticker명을 Index로 사용\n",
        "volume_df.sort_index(inplace=True)\n",
        "\n",
        "# 변동성 (리스크)\n",
        "risk_df = pd.DataFrame(risk_list, columns=['Risk'], index=tickers).fillna(0)\n",
        "risk_df.sort_index(inplace=True)\n",
        "\n",
        "# 평균수익률\n",
        "return_df = pd.DataFrame(return_list, columns=['Returns'], index=tickers).fillna(0)\n",
        "return_df.sort_index(inplace=True)"
      ]
    },
    {
      "cell_type": "markdown",
      "metadata": {
        "id": "KwEbSLxQneqx"
      },
      "source": [
        "- 여러 feature 의 조합으로 데이터 프레임 생성하기"
      ]
    },
    {
      "cell_type": "code",
      "execution_count": 7,
      "metadata": {
        "id": "LdSx6ZPPneqx"
      },
      "outputs": [],
      "source": [
        "df_list = []\n",
        "features = [prices_df, volume_df, risk_df]\n",
        "feature_names = ['prices', 'volume', 'risk']  # 각 특성의 이름\n",
        "\n",
        "# 가능한 모든 특성 조합에 대해 클러스터링 수행\n",
        "for r in range(1, len(features) + 1):\n",
        "    for feature_indices in combinations(range(len(features)), r):\n",
        "        df = pd.concat([features[i] for i in feature_indices], axis=1)\n",
        "        df.name = ' & '.join([feature_names[i] for i in feature_indices])  # 데이터프레임의 이름 생성\n",
        "        df_list.append(df)"
      ]
    },
    {
      "cell_type": "markdown",
      "metadata": {
        "id": "VIJCcZqGneqy"
      },
      "source": [
        "- 회사명 리스트와 값의 리스트를 저장한다."
      ]
    },
    {
      "cell_type": "code",
      "execution_count": 8,
      "metadata": {
        "id": "vode2flSneqy"
      },
      "outputs": [],
      "source": [
        "companies = list(prices_df.index)\n",
        "movements = prices_df.values"
      ]
    },
    {
      "cell_type": "markdown",
      "metadata": {
        "id": "fW_RplbZneqy"
      },
      "source": [
        "# 2. K means Clustering"
      ]
    },
    {
      "cell_type": "code",
      "source": [
        "# DELETE ME\n",
        "import warnings\n",
        "\n",
        "# FutureWarning 숨기기\n",
        "warnings.simplefilter(action='ignore', category=FutureWarning)"
      ],
      "metadata": {
        "id": "IpSiwqCrpqOp"
      },
      "execution_count": 9,
      "outputs": []
    },
    {
      "cell_type": "code",
      "source": [
        "table_list = []\n",
        "num_of_clusters = range(2,12)\n",
        "\n",
        "fig, axes = plt.subplots((len(df_list) + 3) // 4, 4, figsize=(16, 4 * ((len(df_list) + 3) // 4)))\n",
        "\n",
        "for i, final_df in enumerate(df_list):\n",
        "    final_df.columns = final_df.columns.astype(str) # 칼럼 이름의 타입 : str\n",
        "\n",
        "    error = []\n",
        "    for num_clusters in tqdm(num_of_clusters):\n",
        "        clusters = KMeans(num_clusters)\n",
        "        clusters.fit(final_df)\n",
        "        error.append(clusters.inertia_ / 100)\n",
        "    table = pd.DataFrame({\"Cluster_Numbers\": num_of_clusters, \"Error_Term\": error})\n",
        "    table['DataFrame'] = final_df.name\n",
        "    table.set_index(['DataFrame', 'Cluster_Numbers'], inplace=True)  # MultiIndex 설정\n",
        "\n",
        "    sns.lineplot(data=table, x='Cluster_Numbers', y='Error_Term', marker=\"D\", ax=axes[i // 4, i % 4])\n",
        "    axes[i // 4, i % 4].set_title(f'{final_df.name}')\n",
        "\n",
        "for i in range(len(df_list), (len(df_list) + 3) // 4 * 4): # 빈 subplot은 숨기기\n",
        "    fig.delaxes(axes.flatten()[i])\n",
        "\n",
        "plt.tight_layout()\n",
        "plt.show()"
      ],
      "metadata": {
        "colab": {
          "base_uri": "https://localhost:8080/"
        },
        "id": "0D8eTfkvtBVO",
        "outputId": "7937b5a1-21d1-425a-de6a-68c3e60e89f1"
      },
      "execution_count": null,
      "outputs": [
        {
          "output_type": "stream",
          "name": "stderr",
          "text": [
            "100%|██████████| 10/10 [00:13<00:00,  1.38s/it]\n",
            "100%|██████████| 10/10 [00:08<00:00,  1.18it/s]\n",
            "100%|██████████| 10/10 [00:02<00:00,  4.95it/s]\n",
            " 30%|███       | 3/10 [00:02<00:07,  1.10s/it]"
          ]
        }
      ]
    },
    {
      "cell_type": "markdown",
      "metadata": {
        "id": "JzH48SJHneqz"
      },
      "source": [
        "- 엘보우 방법으로 최적의 클러스터링 갯수를 찾는다."
      ]
    },
    {
      "cell_type": "code",
      "source": [
        "elbow_points = []\n",
        "\n",
        "for final_df in df_list:\n",
        "    # Ensure column names are strings\n",
        "    final_df.columns = final_df.columns.astype(str)\n",
        "\n",
        "    sse = np.array(table.loc[final_df.name, 'Error_Term'])\n",
        "    sse_diff = np.diff(sse)\n",
        "    sse_diff2 = np.diff(sse_diff)\n",
        "\n",
        "    min_length = len(sse) // 2\n",
        "    elbow_point = np.argmax(sse_diff2[min_length:]) + min_length + 1\n",
        "    elbow_points.append(elbow_point)\n",
        "\n",
        "# 찾은 elbow points 중에서 가장 높은 값을 선택\n",
        "max_elbow_point = max(elbow_points)\n",
        "\n",
        "print(f'The maximum elbow point is at {max_elbow_point} clusters.')"
      ],
      "metadata": {
        "id": "aQXPTuWVuRqA"
      },
      "execution_count": null,
      "outputs": []
    },
    {
      "cell_type": "code",
      "execution_count": null,
      "metadata": {
        "id": "pknDdsMxneqz"
      },
      "outputs": [],
      "source": [
        "sse = np.array(table['Error_Term'])\n",
        "sse_diff = np.diff(sse)                                           # SSE의 변화율 계산\n",
        "sse_diff2 = np.diff(sse_diff)                                     # 변화율의 변화율 계산\n",
        "min_length = len(sse) // 2                                        # (constraints) error term의 길이의 절반\n",
        "elbow_point = np.argmax(sse_diff2[min_length:]) + min_length + 1  # 이계도함수가 가장 큰 지점 찾기 # 인덱스는 0부터 시작하므로 1을 더함\n",
        "print(f'The elbow point is at {elbow_point} clusters.')"
      ]
    },
    {
      "cell_type": "markdown",
      "metadata": {
        "id": "wqwPOvE5neq0"
      },
      "source": [
        "- 최적의 클러스터링 개수만큼 클러스터를 만든다."
      ]
    },
    {
      "cell_type": "code",
      "execution_count": null,
      "metadata": {
        "id": "OHeAp2bqneq0"
      },
      "outputs": [],
      "source": [
        "clusters = KMeans(elbow_point)\n",
        "clusters.fit(final_df)"
      ]
    },
    {
      "cell_type": "code",
      "execution_count": null,
      "metadata": {
        "id": "57jZSQ2sneq0"
      },
      "outputs": [],
      "source": [
        "labels = clusters.predict(movements)"
      ]
    },
    {
      "cell_type": "code",
      "execution_count": null,
      "metadata": {
        "id": "Vscjmk7eneq0"
      },
      "outputs": [],
      "source": [
        "print('labels : ',len(labels))\n",
        "print('companies : ',len(companies))\n",
        "print('security : ',len(security))\n",
        "print('sector : ',len(sector))"
      ]
    },
    {
      "cell_type": "code",
      "execution_count": null,
      "metadata": {
        "id": "jR235Ovwneq1"
      },
      "outputs": [],
      "source": [
        "clustered_result = pd.DataFrame({'labels': labels, 'tickers': companies, 'full-name':security, 'sector':sector})\n",
        "clustered_result.sort_values('labels')"
      ]
    },
    {
      "cell_type": "code",
      "execution_count": null,
      "metadata": {
        "id": "r_QoftKEneq1"
      },
      "outputs": [],
      "source": [
        "final_df['Cluster'] = clusters.labels_\n",
        "final_df.head()"
      ]
    },
    {
      "cell_type": "code",
      "execution_count": null,
      "metadata": {
        "id": "8Kr48V_Qneq1"
      },
      "outputs": [],
      "source": [
        "final_df.tail()"
      ]
    },
    {
      "cell_type": "markdown",
      "metadata": {
        "id": "iVOSsJo0neq1"
      },
      "source": [
        "# 3. Result"
      ]
    },
    {
      "cell_type": "code",
      "execution_count": null,
      "metadata": {
        "id": "MyHyS6I7neq2"
      },
      "outputs": [],
      "source": [
        "plt.figure(figsize=(6,3))\n",
        "sns.countplot(x = 'Cluster', data = final_df, palette = 'magma')\n",
        "plt.title('Cluster_count')\n",
        "plt.show()\n",
        "plt.savefig('cluster_count.png', dpi=300)"
      ]
    },
    {
      "cell_type": "code",
      "execution_count": null,
      "metadata": {
        "id": "PlHrXjynneq2"
      },
      "outputs": [],
      "source": []
    }
  ],
  "metadata": {
    "kernelspec": {
      "display_name": "Python 3",
      "name": "python3"
    },
    "language_info": {
      "codemirror_mode": {
        "name": "ipython",
        "version": 3
      },
      "file_extension": ".py",
      "mimetype": "text/x-python",
      "name": "python",
      "nbconvert_exporter": "python",
      "pygments_lexer": "ipython3",
      "version": "3.7.16"
    },
    "colab": {
      "provenance": []
    },
    "accelerator": "TPU"
  },
  "nbformat": 4,
  "nbformat_minor": 0
}